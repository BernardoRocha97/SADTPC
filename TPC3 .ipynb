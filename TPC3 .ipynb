{
  "nbformat": 4,
  "nbformat_minor": 0,
  "metadata": {
    "colab": {
      "name": "TPC3.ipynb",
      "version": "0.3.2",
      "provenance": []
    },
    "kernelspec": {
      "name": "python2",
      "display_name": "Python 2"
    }
  },
  "cells": [
    {
      "metadata": {
        "id": "WsmT_6jJDvr0",
        "colab_type": "code",
        "colab": {}
      },
      "cell_type": "code",
      "source": [
        "from sklearn import datasets\n",
        "import pandas as pd\n",
        "import numpy as np\n",
        "import matplotlib.pyplot as plt"
      ],
      "execution_count": 0,
      "outputs": []
    },
    {
      "metadata": {
        "id": "Rjk5VN4jD5bd",
        "colab_type": "code",
        "colab": {}
      },
      "cell_type": "code",
      "source": [
        "data = datasets.california_housing.fetch_california_housing()\n",
        "#show disorganized data\n",
        "data"
      ],
      "execution_count": 0,
      "outputs": []
    },
    {
      "metadata": {
        "id": "LPsWXUPtEMSK",
        "colab_type": "code",
        "colab": {}
      },
      "cell_type": "code",
      "source": [
        "dframe = pd.DataFrame(data=data.data, columns=data.feature_names)\n",
        "dframe.head()"
      ],
      "execution_count": 0,
      "outputs": []
    },
    {
      "metadata": {
        "id": "1IImpfzXE5tq",
        "colab_type": "text"
      },
      "cell_type": "markdown",
      "source": [
        "## 1) Aggregation"
      ]
    },
    {
      "metadata": {
        "id": "-Zxb78nSFDfi",
        "colab_type": "code",
        "colab": {}
      },
      "cell_type": "code",
      "source": [
        "dframe[\"HouseAge\"].count()"
      ],
      "execution_count": 0,
      "outputs": []
    },
    {
      "metadata": {
        "id": "0PhptX-bFA0u",
        "colab_type": "text"
      },
      "cell_type": "markdown",
      "source": [
        "## 2) Sampling"
      ]
    },
    {
      "metadata": {
        "id": "O5w-y7lfG1Ph",
        "colab_type": "code",
        "colab": {}
      },
      "cell_type": "code",
      "source": [
        "dframe.sample(n = 3)"
      ],
      "execution_count": 0,
      "outputs": []
    },
    {
      "metadata": {
        "id": "sBYL_Fa3FGkR",
        "colab_type": "text"
      },
      "cell_type": "markdown",
      "source": [
        "## 4) Dimensionality Reduction"
      ]
    },
    {
      "metadata": {
        "id": "ivqcejVfMlxZ",
        "colab_type": "code",
        "colab": {}
      },
      "cell_type": "code",
      "source": [
        "dframe.drop(\"AveRooms\" , axis = 1)"
      ],
      "execution_count": 0,
      "outputs": []
    },
    {
      "metadata": {
        "id": "L0U1gcFFFUv_",
        "colab_type": "text"
      },
      "cell_type": "markdown",
      "source": [
        "## 5) Feature Subset Selection"
      ]
    },
    {
      "metadata": {
        "id": "3V1F_GC6JHL6",
        "colab_type": "code",
        "colab": {}
      },
      "cell_type": "code",
      "source": [
        "dframe.iloc[:, 2]"
      ],
      "execution_count": 0,
      "outputs": []
    },
    {
      "metadata": {
        "id": "bEaQFnzGFZ0O",
        "colab_type": "text"
      },
      "cell_type": "markdown",
      "source": [
        "## 6) Feature Creation"
      ]
    },
    {
      "metadata": {
        "id": "JE0TAiBVL6Np",
        "colab_type": "code",
        "colab": {}
      },
      "cell_type": "code",
      "source": [
        "new_data =np.concatenate((data.data, data.target.reshape(-1,1)*100000), axis=1)\n",
        "\n",
        "names = data.feature_names + [\"precos\"]\n"
      ],
      "execution_count": 0,
      "outputs": []
    },
    {
      "metadata": {
        "id": "Ml4oiLtKMF9C",
        "colab_type": "code",
        "colab": {}
      },
      "cell_type": "code",
      "source": [
        "dframe = pd.DataFrame(new_data, columns=names)\n",
        "\n",
        "dframe.head()"
      ],
      "execution_count": 0,
      "outputs": []
    },
    {
      "metadata": {
        "id": "ppJxd2B-FgL2",
        "colab_type": "text"
      },
      "cell_type": "markdown",
      "source": [
        "## 7) Discretization and Binarization"
      ]
    },
    {
      "metadata": {
        "id": "PfesDWgiNMds",
        "colab_type": "code",
        "colab": {}
      },
      "cell_type": "code",
      "source": [
        "order = ['MedInc', 'HouseAge', 'AveRooms', 'AveBedrms', 'Population', 'AveOccup', 'Latitude', 'Longitude', 'precos']\n",
        "pd.concat([dframe, pd.get_dummies(dframe, '').astype(bool)], axis=1)[order]"
      ],
      "execution_count": 0,
      "outputs": []
    },
    {
      "metadata": {
        "id": "Yp2C_1CfFlbF",
        "colab_type": "text"
      },
      "cell_type": "markdown",
      "source": [
        "## 8) Attribute Transformation"
      ]
    },
    {
      "metadata": {
        "id": "gkWhez8POmAw",
        "colab_type": "code",
        "colab": {}
      },
      "cell_type": "code",
      "source": [
        "dframe.transform(lambda x: (x - x.mean()) / x.std())"
      ],
      "execution_count": 0,
      "outputs": []
    }
  ]
}
